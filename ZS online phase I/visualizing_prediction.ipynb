{
 "cells": [
  {
   "cell_type": "code",
   "execution_count": 1,
   "metadata": {
    "collapsed": true
   },
   "outputs": [],
   "source": [
    "import pandas as pd\n",
    "import numpy as np\n",
    "import matplotlib.pyplot as plt\n",
    "import seaborn as sns"
   ]
  },
  {
   "cell_type": "code",
   "execution_count": 2,
   "metadata": {
    "collapsed": true
   },
   "outputs": [],
   "source": [
    "def visualize_test_prediction(y_pred):\n",
    "    train_visual = pd.read_csv('Data/train_visual.csv')\n",
    "    test_visual = pd.read_csv('Data/test_visual.csv')\n",
    "    test_visual['Sales'] = y_pred\n",
    "    \n",
    "    train_visual['Year'] = train_visual['Year'].apply(lambda x : str(x))\n",
    "    train_visual['Month'] = train_visual['Month'].apply(lambda x : str(x))\n",
    "\n",
    "    test_visual['Year'] = test_visual['Year'].apply(lambda x : str(x))\n",
    "    test_visual['Month'] = test_visual['Month'].apply(lambda x : str(x))\n",
    "    \n",
    "    train_visual['date'] = pd.to_datetime(train_visual['Year']+'-'+train_visual['Month']+'-'+str(1))\n",
    "    test_visual['date'] = pd.to_datetime(test_visual['Year']+'-'+test_visual['Month']+'-'+str(1))\n",
    "\n",
    "    train_visual.set_index('date',inplace=True)\n",
    "    test_visual.set_index('date',inplace=True)\n",
    "    for i in range(1,len(set(train_visual['Product_ID']))+1):\n",
    "        tmp = list(set(train_visual[train_visual['Product_ID']==i]['Country']))\n",
    "        for j in tmp:\n",
    "            print('Product ',i,' in ',j)\n",
    "            train_visual[(train_visual['Product_ID']==i)&(train_visual['Country']==j)].sort_values(['Year','Month'])['Sales'].plot(figsize=(20,10))\n",
    "            test_visual[(test_visual['Product_ID']==i)&(test_visual['Country']==j)].sort_values(['Year','Month'])['Sales'].plot(figsize=(20,10))\n",
    "            plt.show()"
   ]
  }
 ],
 "metadata": {
  "kernelspec": {
   "display_name": "Python 3",
   "language": "python",
   "name": "python3"
  },
  "language_info": {
   "codemirror_mode": {
    "name": "ipython",
    "version": 3
   },
   "file_extension": ".py",
   "mimetype": "text/x-python",
   "name": "python",
   "nbconvert_exporter": "python",
   "pygments_lexer": "ipython3",
   "version": "3.6.2"
  }
 },
 "nbformat": 4,
 "nbformat_minor": 2
}
