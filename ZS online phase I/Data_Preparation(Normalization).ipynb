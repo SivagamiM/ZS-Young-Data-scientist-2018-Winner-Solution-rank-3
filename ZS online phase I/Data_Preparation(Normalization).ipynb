{
 "cells": [
  {
   "cell_type": "code",
   "execution_count": 1,
   "metadata": {
    "collapsed": true
   },
   "outputs": [],
   "source": [
    "import pandas as pd\n",
    "import numpy as np\n",
    "import seaborn as sns\n",
    "from matplotlib import pyplot as plt\n",
    "import os"
   ]
  },
  {
   "cell_type": "code",
   "execution_count": 2,
   "metadata": {},
   "outputs": [
    {
     "data": {
      "text/plain": [
       "['Clean_test_data.csv',\n",
       " 'Clean_train_data.csv',\n",
       " 'holidays.xlsx',\n",
       " 'processed_test.csv',\n",
       " 'processed_train.csv',\n",
       " 'promotional_expense.csv',\n",
       " 'sample_submission.csv',\n",
       " 'test_visual.csv',\n",
       " 'train_visual.csv',\n",
       " 'yds_test2018.csv',\n",
       " 'yds_train2018.csv']"
      ]
     },
     "execution_count": 2,
     "metadata": {},
     "output_type": "execute_result"
    }
   ],
   "source": [
    "os.listdir('Data')"
   ]
  },
  {
   "cell_type": "code",
   "execution_count": 3,
   "metadata": {
    "collapsed": true
   },
   "outputs": [],
   "source": [
    "train_data = pd.read_csv('Data/yds_train2018.csv')\n",
    "test_data = pd.read_csv('Data/yds_test2018.csv')\n",
    "\n",
    "promotional_data = pd.read_csv('Data/promotional_expense.csv')\n",
    "holiday_data = pd.read_excel('Data/holidays.xlsx')"
   ]
  },
  {
   "cell_type": "code",
   "execution_count": 4,
   "metadata": {},
   "outputs": [
    {
     "data": {
      "text/plain": [
       "((79072, 8), (105, 6), (435, 5), (652, 3))"
      ]
     },
     "execution_count": 4,
     "metadata": {},
     "output_type": "execute_result"
    }
   ],
   "source": [
    "train_data.shape,test_data.shape,promotional_data.shape,holiday_data.shape"
   ]
  },
  {
   "cell_type": "code",
   "execution_count": 5,
   "metadata": {},
   "outputs": [
    {
     "data": {
      "text/html": [
       "<div>\n",
       "<style scoped>\n",
       "    .dataframe tbody tr th:only-of-type {\n",
       "        vertical-align: middle;\n",
       "    }\n",
       "\n",
       "    .dataframe tbody tr th {\n",
       "        vertical-align: top;\n",
       "    }\n",
       "\n",
       "    .dataframe thead th {\n",
       "        text-align: right;\n",
       "    }\n",
       "</style>\n",
       "<table border=\"1\" class=\"dataframe\">\n",
       "  <thead>\n",
       "    <tr style=\"text-align: right;\">\n",
       "      <th></th>\n",
       "      <th>S_No</th>\n",
       "      <th>Year</th>\n",
       "      <th>Month</th>\n",
       "      <th>Week</th>\n",
       "      <th>Merchant_ID</th>\n",
       "      <th>Product_ID</th>\n",
       "      <th>Country</th>\n",
       "      <th>Sales</th>\n",
       "    </tr>\n",
       "  </thead>\n",
       "  <tbody>\n",
       "    <tr>\n",
       "      <th>0</th>\n",
       "      <td>1</td>\n",
       "      <td>2013</td>\n",
       "      <td>1</td>\n",
       "      <td>1</td>\n",
       "      <td>ar00001</td>\n",
       "      <td>1</td>\n",
       "      <td>Argentina</td>\n",
       "      <td>157500.0</td>\n",
       "    </tr>\n",
       "    <tr>\n",
       "      <th>1</th>\n",
       "      <td>2</td>\n",
       "      <td>2013</td>\n",
       "      <td>1</td>\n",
       "      <td>1</td>\n",
       "      <td>ar00003</td>\n",
       "      <td>1</td>\n",
       "      <td>Argentina</td>\n",
       "      <td>39375.0</td>\n",
       "    </tr>\n",
       "    <tr>\n",
       "      <th>2</th>\n",
       "      <td>3</td>\n",
       "      <td>2013</td>\n",
       "      <td>1</td>\n",
       "      <td>1</td>\n",
       "      <td>ar00004</td>\n",
       "      <td>1</td>\n",
       "      <td>Argentina</td>\n",
       "      <td>15750.0</td>\n",
       "    </tr>\n",
       "    <tr>\n",
       "      <th>3</th>\n",
       "      <td>4</td>\n",
       "      <td>2013</td>\n",
       "      <td>1</td>\n",
       "      <td>1</td>\n",
       "      <td>ar00007</td>\n",
       "      <td>1</td>\n",
       "      <td>Argentina</td>\n",
       "      <td>47250.0</td>\n",
       "    </tr>\n",
       "    <tr>\n",
       "      <th>4</th>\n",
       "      <td>5</td>\n",
       "      <td>2013</td>\n",
       "      <td>1</td>\n",
       "      <td>1</td>\n",
       "      <td>ar00008</td>\n",
       "      <td>1</td>\n",
       "      <td>Argentina</td>\n",
       "      <td>283500.0</td>\n",
       "    </tr>\n",
       "  </tbody>\n",
       "</table>\n",
       "</div>"
      ],
      "text/plain": [
       "   S_No  Year  Month  Week Merchant_ID  Product_ID    Country     Sales\n",
       "0     1  2013      1     1     ar00001           1  Argentina  157500.0\n",
       "1     2  2013      1     1     ar00003           1  Argentina   39375.0\n",
       "2     3  2013      1     1     ar00004           1  Argentina   15750.0\n",
       "3     4  2013      1     1     ar00007           1  Argentina   47250.0\n",
       "4     5  2013      1     1     ar00008           1  Argentina  283500.0"
      ]
     },
     "execution_count": 5,
     "metadata": {},
     "output_type": "execute_result"
    }
   ],
   "source": [
    "train_data.head()"
   ]
  },
  {
   "cell_type": "code",
   "execution_count": 6,
   "metadata": {},
   "outputs": [
    {
     "data": {
      "text/html": [
       "<div>\n",
       "<style scoped>\n",
       "    .dataframe tbody tr th:only-of-type {\n",
       "        vertical-align: middle;\n",
       "    }\n",
       "\n",
       "    .dataframe tbody tr th {\n",
       "        vertical-align: top;\n",
       "    }\n",
       "\n",
       "    .dataframe thead th {\n",
       "        text-align: right;\n",
       "    }\n",
       "</style>\n",
       "<table border=\"1\" class=\"dataframe\">\n",
       "  <thead>\n",
       "    <tr style=\"text-align: right;\">\n",
       "      <th></th>\n",
       "      <th>S_No</th>\n",
       "      <th>Year</th>\n",
       "      <th>Month</th>\n",
       "      <th>Product_ID</th>\n",
       "      <th>Country</th>\n",
       "      <th>Sales</th>\n",
       "    </tr>\n",
       "  </thead>\n",
       "  <tbody>\n",
       "    <tr>\n",
       "      <th>0</th>\n",
       "      <td>79073</td>\n",
       "      <td>2016</td>\n",
       "      <td>4</td>\n",
       "      <td>1</td>\n",
       "      <td>Argentina</td>\n",
       "      <td>NaN</td>\n",
       "    </tr>\n",
       "    <tr>\n",
       "      <th>1</th>\n",
       "      <td>79074</td>\n",
       "      <td>2016</td>\n",
       "      <td>5</td>\n",
       "      <td>1</td>\n",
       "      <td>Argentina</td>\n",
       "      <td>NaN</td>\n",
       "    </tr>\n",
       "    <tr>\n",
       "      <th>2</th>\n",
       "      <td>79075</td>\n",
       "      <td>2016</td>\n",
       "      <td>6</td>\n",
       "      <td>1</td>\n",
       "      <td>Argentina</td>\n",
       "      <td>NaN</td>\n",
       "    </tr>\n",
       "    <tr>\n",
       "      <th>3</th>\n",
       "      <td>79076</td>\n",
       "      <td>2016</td>\n",
       "      <td>7</td>\n",
       "      <td>1</td>\n",
       "      <td>Argentina</td>\n",
       "      <td>NaN</td>\n",
       "    </tr>\n",
       "    <tr>\n",
       "      <th>4</th>\n",
       "      <td>79077</td>\n",
       "      <td>2016</td>\n",
       "      <td>8</td>\n",
       "      <td>1</td>\n",
       "      <td>Argentina</td>\n",
       "      <td>NaN</td>\n",
       "    </tr>\n",
       "  </tbody>\n",
       "</table>\n",
       "</div>"
      ],
      "text/plain": [
       "    S_No  Year  Month  Product_ID    Country  Sales\n",
       "0  79073  2016      4           1  Argentina    NaN\n",
       "1  79074  2016      5           1  Argentina    NaN\n",
       "2  79075  2016      6           1  Argentina    NaN\n",
       "3  79076  2016      7           1  Argentina    NaN\n",
       "4  79077  2016      8           1  Argentina    NaN"
      ]
     },
     "execution_count": 6,
     "metadata": {},
     "output_type": "execute_result"
    }
   ],
   "source": [
    "test_data.head()"
   ]
  },
  {
   "cell_type": "code",
   "execution_count": 7,
   "metadata": {},
   "outputs": [
    {
     "data": {
      "text/html": [
       "<div>\n",
       "<style scoped>\n",
       "    .dataframe tbody tr th:only-of-type {\n",
       "        vertical-align: middle;\n",
       "    }\n",
       "\n",
       "    .dataframe tbody tr th {\n",
       "        vertical-align: top;\n",
       "    }\n",
       "\n",
       "    .dataframe thead th {\n",
       "        text-align: right;\n",
       "    }\n",
       "</style>\n",
       "<table border=\"1\" class=\"dataframe\">\n",
       "  <thead>\n",
       "    <tr style=\"text-align: right;\">\n",
       "      <th></th>\n",
       "      <th>Date</th>\n",
       "      <th>Country</th>\n",
       "      <th>Holiday</th>\n",
       "    </tr>\n",
       "  </thead>\n",
       "  <tbody>\n",
       "    <tr>\n",
       "      <th>0</th>\n",
       "      <td>2014, 1, 1</td>\n",
       "      <td>Denmark</td>\n",
       "      <td>Nytårsdag</td>\n",
       "    </tr>\n",
       "    <tr>\n",
       "      <th>1</th>\n",
       "      <td>2014, 4, 17</td>\n",
       "      <td>Denmark</td>\n",
       "      <td>Skærtorsdag</td>\n",
       "    </tr>\n",
       "    <tr>\n",
       "      <th>2</th>\n",
       "      <td>2014, 4, 18</td>\n",
       "      <td>Denmark</td>\n",
       "      <td>Langfredag</td>\n",
       "    </tr>\n",
       "    <tr>\n",
       "      <th>3</th>\n",
       "      <td>2014, 4, 20</td>\n",
       "      <td>Denmark</td>\n",
       "      <td>Påskedag</td>\n",
       "    </tr>\n",
       "    <tr>\n",
       "      <th>4</th>\n",
       "      <td>2014, 4, 21</td>\n",
       "      <td>Denmark</td>\n",
       "      <td>Anden påskedag</td>\n",
       "    </tr>\n",
       "  </tbody>\n",
       "</table>\n",
       "</div>"
      ],
      "text/plain": [
       "          Date  Country          Holiday\n",
       "0   2014, 1, 1  Denmark        Nytårsdag\n",
       "1  2014, 4, 17  Denmark      Skærtorsdag\n",
       "2  2014, 4, 18  Denmark       Langfredag\n",
       "3  2014, 4, 20  Denmark         Påskedag\n",
       "4  2014, 4, 21  Denmark   Anden påskedag"
      ]
     },
     "execution_count": 7,
     "metadata": {},
     "output_type": "execute_result"
    }
   ],
   "source": [
    "holiday_data.head()"
   ]
  },
  {
   "cell_type": "code",
   "execution_count": 8,
   "metadata": {},
   "outputs": [
    {
     "data": {
      "text/html": [
       "<div>\n",
       "<style scoped>\n",
       "    .dataframe tbody tr th:only-of-type {\n",
       "        vertical-align: middle;\n",
       "    }\n",
       "\n",
       "    .dataframe tbody tr th {\n",
       "        vertical-align: top;\n",
       "    }\n",
       "\n",
       "    .dataframe thead th {\n",
       "        text-align: right;\n",
       "    }\n",
       "</style>\n",
       "<table border=\"1\" class=\"dataframe\">\n",
       "  <thead>\n",
       "    <tr style=\"text-align: right;\">\n",
       "      <th></th>\n",
       "      <th>Year</th>\n",
       "      <th>Month</th>\n",
       "      <th>Country</th>\n",
       "      <th>Product_Type</th>\n",
       "      <th>Expense_Price</th>\n",
       "    </tr>\n",
       "  </thead>\n",
       "  <tbody>\n",
       "    <tr>\n",
       "      <th>0</th>\n",
       "      <td>2013</td>\n",
       "      <td>1</td>\n",
       "      <td>Argentina</td>\n",
       "      <td>1</td>\n",
       "      <td>14749.307</td>\n",
       "    </tr>\n",
       "    <tr>\n",
       "      <th>1</th>\n",
       "      <td>2013</td>\n",
       "      <td>1</td>\n",
       "      <td>Argentina</td>\n",
       "      <td>2</td>\n",
       "      <td>1329.374</td>\n",
       "    </tr>\n",
       "    <tr>\n",
       "      <th>2</th>\n",
       "      <td>2013</td>\n",
       "      <td>1</td>\n",
       "      <td>Belgium</td>\n",
       "      <td>2</td>\n",
       "      <td>249.590</td>\n",
       "    </tr>\n",
       "    <tr>\n",
       "      <th>3</th>\n",
       "      <td>2013</td>\n",
       "      <td>1</td>\n",
       "      <td>Columbia</td>\n",
       "      <td>1</td>\n",
       "      <td>1893.122</td>\n",
       "    </tr>\n",
       "    <tr>\n",
       "      <th>4</th>\n",
       "      <td>2013</td>\n",
       "      <td>1</td>\n",
       "      <td>Columbia</td>\n",
       "      <td>2</td>\n",
       "      <td>1436.726</td>\n",
       "    </tr>\n",
       "  </tbody>\n",
       "</table>\n",
       "</div>"
      ],
      "text/plain": [
       "   Year  Month    Country  Product_Type  Expense_Price\n",
       "0  2013      1  Argentina             1      14749.307\n",
       "1  2013      1  Argentina             2       1329.374\n",
       "2  2013      1    Belgium             2        249.590\n",
       "3  2013      1   Columbia             1       1893.122\n",
       "4  2013      1   Columbia             2       1436.726"
      ]
     },
     "execution_count": 8,
     "metadata": {},
     "output_type": "execute_result"
    }
   ],
   "source": [
    "promotional_data.head()"
   ]
  },
  {
   "cell_type": "code",
   "execution_count": 9,
   "metadata": {
    "collapsed": true
   },
   "outputs": [],
   "source": [
    "promotional_data.rename(columns={'Product_Type':'Product_ID'},inplace=True)"
   ]
  },
  {
   "cell_type": "markdown",
   "metadata": {},
   "source": [
    "<h3>Extracting month,year and day from holiday_data date column</h3>"
   ]
  },
  {
   "cell_type": "code",
   "execution_count": 10,
   "metadata": {
    "collapsed": true
   },
   "outputs": [],
   "source": [
    "def to_date(x=None):\n",
    "    return pd.to_datetime('-'.join(x.split(',')))\n",
    "\n",
    "holiday_data['Date'] = holiday_data['Date'].apply(lambda y : to_date(x=y))"
   ]
  },
  {
   "cell_type": "code",
   "execution_count": 11,
   "metadata": {
    "collapsed": true
   },
   "outputs": [],
   "source": [
    "holiday_data['Month'] = holiday_data['Date'].dt.month\n",
    "holiday_data['Year'] = holiday_data['Date'].dt.year"
   ]
  },
  {
   "cell_type": "code",
   "execution_count": 12,
   "metadata": {},
   "outputs": [
    {
     "data": {
      "text/html": [
       "<div>\n",
       "<style scoped>\n",
       "    .dataframe tbody tr th:only-of-type {\n",
       "        vertical-align: middle;\n",
       "    }\n",
       "\n",
       "    .dataframe tbody tr th {\n",
       "        vertical-align: top;\n",
       "    }\n",
       "\n",
       "    .dataframe thead th {\n",
       "        text-align: right;\n",
       "    }\n",
       "</style>\n",
       "<table border=\"1\" class=\"dataframe\">\n",
       "  <thead>\n",
       "    <tr style=\"text-align: right;\">\n",
       "      <th></th>\n",
       "      <th>Date</th>\n",
       "      <th>Country</th>\n",
       "      <th>Holiday</th>\n",
       "      <th>Month</th>\n",
       "      <th>Year</th>\n",
       "    </tr>\n",
       "  </thead>\n",
       "  <tbody>\n",
       "    <tr>\n",
       "      <th>0</th>\n",
       "      <td>2014-01-01</td>\n",
       "      <td>Denmark</td>\n",
       "      <td>Nytårsdag</td>\n",
       "      <td>1</td>\n",
       "      <td>2014</td>\n",
       "    </tr>\n",
       "    <tr>\n",
       "      <th>1</th>\n",
       "      <td>2014-04-17</td>\n",
       "      <td>Denmark</td>\n",
       "      <td>Skærtorsdag</td>\n",
       "      <td>4</td>\n",
       "      <td>2014</td>\n",
       "    </tr>\n",
       "    <tr>\n",
       "      <th>2</th>\n",
       "      <td>2014-04-18</td>\n",
       "      <td>Denmark</td>\n",
       "      <td>Langfredag</td>\n",
       "      <td>4</td>\n",
       "      <td>2014</td>\n",
       "    </tr>\n",
       "    <tr>\n",
       "      <th>3</th>\n",
       "      <td>2014-04-20</td>\n",
       "      <td>Denmark</td>\n",
       "      <td>Påskedag</td>\n",
       "      <td>4</td>\n",
       "      <td>2014</td>\n",
       "    </tr>\n",
       "    <tr>\n",
       "      <th>4</th>\n",
       "      <td>2014-04-21</td>\n",
       "      <td>Denmark</td>\n",
       "      <td>Anden påskedag</td>\n",
       "      <td>4</td>\n",
       "      <td>2014</td>\n",
       "    </tr>\n",
       "  </tbody>\n",
       "</table>\n",
       "</div>"
      ],
      "text/plain": [
       "        Date  Country          Holiday  Month  Year\n",
       "0 2014-01-01  Denmark        Nytårsdag      1  2014\n",
       "1 2014-04-17  Denmark      Skærtorsdag      4  2014\n",
       "2 2014-04-18  Denmark       Langfredag      4  2014\n",
       "3 2014-04-20  Denmark         Påskedag      4  2014\n",
       "4 2014-04-21  Denmark   Anden påskedag      4  2014"
      ]
     },
     "execution_count": 12,
     "metadata": {},
     "output_type": "execute_result"
    }
   ],
   "source": [
    "holiday_data.head()"
   ]
  },
  {
   "cell_type": "code",
   "execution_count": 40,
   "metadata": {
    "collapsed": true
   },
   "outputs": [],
   "source": [
    "train_data = train_data.merge(right=holiday_data[[i for i in holiday_data.columns if i not in ['Date']]],on=['Year','Month','Country'],how='left')\n",
    "train_data = train_data.merge(right=promotional_data,on=['Year','Month','Country','Product_ID'],how='left')"
   ]
  },
  {
   "cell_type": "code",
   "execution_count": 41,
   "metadata": {
    "collapsed": true
   },
   "outputs": [],
   "source": [
    "test_data = test_data.merge(right=holiday_data[[i for i in holiday_data.columns if i not in ['Date']]],on=['Year','Month','Country'],how='left')\n",
    "test_data = test_data.merge(right=promotional_data,on=['Year','Month','Country','Product_ID'],how='left')"
   ]
  },
  {
   "cell_type": "code",
   "execution_count": 42,
   "metadata": {},
   "outputs": [
    {
     "data": {
      "text/html": [
       "<div>\n",
       "<style scoped>\n",
       "    .dataframe tbody tr th:only-of-type {\n",
       "        vertical-align: middle;\n",
       "    }\n",
       "\n",
       "    .dataframe tbody tr th {\n",
       "        vertical-align: top;\n",
       "    }\n",
       "\n",
       "    .dataframe thead th {\n",
       "        text-align: right;\n",
       "    }\n",
       "</style>\n",
       "<table border=\"1\" class=\"dataframe\">\n",
       "  <thead>\n",
       "    <tr style=\"text-align: right;\">\n",
       "      <th></th>\n",
       "      <th>S_No</th>\n",
       "      <th>Year</th>\n",
       "      <th>Month</th>\n",
       "      <th>Product_ID</th>\n",
       "      <th>Country</th>\n",
       "      <th>Sales</th>\n",
       "      <th>Holiday</th>\n",
       "      <th>Expense_Price</th>\n",
       "    </tr>\n",
       "  </thead>\n",
       "  <tbody>\n",
       "    <tr>\n",
       "      <th>0</th>\n",
       "      <td>79073</td>\n",
       "      <td>2016</td>\n",
       "      <td>4</td>\n",
       "      <td>1</td>\n",
       "      <td>Argentina</td>\n",
       "      <td>NaN</td>\n",
       "      <td>Día del Veterano y de los Caidos en la Guerra...</td>\n",
       "      <td>8214.875</td>\n",
       "    </tr>\n",
       "    <tr>\n",
       "      <th>1</th>\n",
       "      <td>79074</td>\n",
       "      <td>2016</td>\n",
       "      <td>5</td>\n",
       "      <td>1</td>\n",
       "      <td>Argentina</td>\n",
       "      <td>NaN</td>\n",
       "      <td>Día del Trabajo [Labour Day]</td>\n",
       "      <td>10777.878</td>\n",
       "    </tr>\n",
       "    <tr>\n",
       "      <th>2</th>\n",
       "      <td>79074</td>\n",
       "      <td>2016</td>\n",
       "      <td>5</td>\n",
       "      <td>1</td>\n",
       "      <td>Argentina</td>\n",
       "      <td>NaN</td>\n",
       "      <td>Día de la Revolucion de Mayo [May Revolution ...</td>\n",
       "      <td>10777.878</td>\n",
       "    </tr>\n",
       "    <tr>\n",
       "      <th>3</th>\n",
       "      <td>79075</td>\n",
       "      <td>2016</td>\n",
       "      <td>6</td>\n",
       "      <td>1</td>\n",
       "      <td>Argentina</td>\n",
       "      <td>NaN</td>\n",
       "      <td>Día Pase a la Inmortalidad del General Martín...</td>\n",
       "      <td>10320.673</td>\n",
       "    </tr>\n",
       "    <tr>\n",
       "      <th>4</th>\n",
       "      <td>79075</td>\n",
       "      <td>2016</td>\n",
       "      <td>6</td>\n",
       "      <td>1</td>\n",
       "      <td>Argentina</td>\n",
       "      <td>NaN</td>\n",
       "      <td>Día Pase a la Inmortalidad del General D. Man...</td>\n",
       "      <td>10320.673</td>\n",
       "    </tr>\n",
       "  </tbody>\n",
       "</table>\n",
       "</div>"
      ],
      "text/plain": [
       "    S_No  Year  Month  Product_ID    Country  Sales  \\\n",
       "0  79073  2016      4           1  Argentina    NaN   \n",
       "1  79074  2016      5           1  Argentina    NaN   \n",
       "2  79074  2016      5           1  Argentina    NaN   \n",
       "3  79075  2016      6           1  Argentina    NaN   \n",
       "4  79075  2016      6           1  Argentina    NaN   \n",
       "\n",
       "                                             Holiday  Expense_Price  \n",
       "0   Día del Veterano y de los Caidos en la Guerra...       8214.875  \n",
       "1                       Día del Trabajo [Labour Day]      10777.878  \n",
       "2   Día de la Revolucion de Mayo [May Revolution ...      10777.878  \n",
       "3   Día Pase a la Inmortalidad del General Martín...      10320.673  \n",
       "4   Día Pase a la Inmortalidad del General D. Man...      10320.673  "
      ]
     },
     "execution_count": 42,
     "metadata": {},
     "output_type": "execute_result"
    }
   ],
   "source": [
    "test_data.head()"
   ]
  },
  {
   "cell_type": "code",
   "execution_count": 43,
   "metadata": {},
   "outputs": [
    {
     "data": {
      "text/html": [
       "<div>\n",
       "<style scoped>\n",
       "    .dataframe tbody tr th:only-of-type {\n",
       "        vertical-align: middle;\n",
       "    }\n",
       "\n",
       "    .dataframe tbody tr th {\n",
       "        vertical-align: top;\n",
       "    }\n",
       "\n",
       "    .dataframe thead th {\n",
       "        text-align: right;\n",
       "    }\n",
       "</style>\n",
       "<table border=\"1\" class=\"dataframe\">\n",
       "  <thead>\n",
       "    <tr style=\"text-align: right;\">\n",
       "      <th></th>\n",
       "      <th>S_No</th>\n",
       "      <th>Year</th>\n",
       "      <th>Month</th>\n",
       "      <th>Week</th>\n",
       "      <th>Merchant_ID</th>\n",
       "      <th>Product_ID</th>\n",
       "      <th>Country</th>\n",
       "      <th>Sales</th>\n",
       "      <th>Holiday</th>\n",
       "      <th>Expense_Price</th>\n",
       "    </tr>\n",
       "  </thead>\n",
       "  <tbody>\n",
       "    <tr>\n",
       "      <th>0</th>\n",
       "      <td>1</td>\n",
       "      <td>2013</td>\n",
       "      <td>1</td>\n",
       "      <td>1</td>\n",
       "      <td>ar00001</td>\n",
       "      <td>1</td>\n",
       "      <td>Argentina</td>\n",
       "      <td>157500.0</td>\n",
       "      <td>\"Año Nuevo [New Years Day]\"</td>\n",
       "      <td>14749.307</td>\n",
       "    </tr>\n",
       "    <tr>\n",
       "      <th>1</th>\n",
       "      <td>2</td>\n",
       "      <td>2013</td>\n",
       "      <td>1</td>\n",
       "      <td>1</td>\n",
       "      <td>ar00003</td>\n",
       "      <td>1</td>\n",
       "      <td>Argentina</td>\n",
       "      <td>39375.0</td>\n",
       "      <td>\"Año Nuevo [New Years Day]\"</td>\n",
       "      <td>14749.307</td>\n",
       "    </tr>\n",
       "    <tr>\n",
       "      <th>2</th>\n",
       "      <td>3</td>\n",
       "      <td>2013</td>\n",
       "      <td>1</td>\n",
       "      <td>1</td>\n",
       "      <td>ar00004</td>\n",
       "      <td>1</td>\n",
       "      <td>Argentina</td>\n",
       "      <td>15750.0</td>\n",
       "      <td>\"Año Nuevo [New Years Day]\"</td>\n",
       "      <td>14749.307</td>\n",
       "    </tr>\n",
       "    <tr>\n",
       "      <th>3</th>\n",
       "      <td>4</td>\n",
       "      <td>2013</td>\n",
       "      <td>1</td>\n",
       "      <td>1</td>\n",
       "      <td>ar00007</td>\n",
       "      <td>1</td>\n",
       "      <td>Argentina</td>\n",
       "      <td>47250.0</td>\n",
       "      <td>\"Año Nuevo [New Years Day]\"</td>\n",
       "      <td>14749.307</td>\n",
       "    </tr>\n",
       "    <tr>\n",
       "      <th>4</th>\n",
       "      <td>5</td>\n",
       "      <td>2013</td>\n",
       "      <td>1</td>\n",
       "      <td>1</td>\n",
       "      <td>ar00008</td>\n",
       "      <td>1</td>\n",
       "      <td>Argentina</td>\n",
       "      <td>283500.0</td>\n",
       "      <td>\"Año Nuevo [New Years Day]\"</td>\n",
       "      <td>14749.307</td>\n",
       "    </tr>\n",
       "  </tbody>\n",
       "</table>\n",
       "</div>"
      ],
      "text/plain": [
       "   S_No  Year  Month  Week Merchant_ID  Product_ID    Country     Sales  \\\n",
       "0     1  2013      1     1     ar00001           1  Argentina  157500.0   \n",
       "1     2  2013      1     1     ar00003           1  Argentina   39375.0   \n",
       "2     3  2013      1     1     ar00004           1  Argentina   15750.0   \n",
       "3     4  2013      1     1     ar00007           1  Argentina   47250.0   \n",
       "4     5  2013      1     1     ar00008           1  Argentina  283500.0   \n",
       "\n",
       "                        Holiday  Expense_Price  \n",
       "0   \"Año Nuevo [New Years Day]\"      14749.307  \n",
       "1   \"Año Nuevo [New Years Day]\"      14749.307  \n",
       "2   \"Año Nuevo [New Years Day]\"      14749.307  \n",
       "3   \"Año Nuevo [New Years Day]\"      14749.307  \n",
       "4   \"Año Nuevo [New Years Day]\"      14749.307  "
      ]
     },
     "execution_count": 43,
     "metadata": {},
     "output_type": "execute_result"
    }
   ],
   "source": [
    "train_data.head()"
   ]
  },
  {
   "cell_type": "code",
   "execution_count": 44,
   "metadata": {
    "collapsed": true
   },
   "outputs": [],
   "source": [
    "# converting train weekly data to monthly\n",
    "train_data = train_data.groupby(['Year','Month','Country','Product_ID'],as_index=False).agg({'Sales':'sum','Holiday':'nunique','Expense_Price':'mean'})\n",
    "test_data = test_data.groupby(['Year','Month','Country','Product_ID'],as_index=False).agg({'Holiday':'nunique','Expense_Price':'mean'})\n"
   ]
  },
  {
   "cell_type": "code",
   "execution_count": 45,
   "metadata": {
    "collapsed": true
   },
   "outputs": [],
   "source": [
    "train_data = train_data.sort_values(['Year','Month','Country','Product_ID'])\n",
    "test_data = test_data.sort_values(['Year','Month','Country','Product_ID'])"
   ]
  },
  {
   "cell_type": "code",
   "execution_count": 46,
   "metadata": {
    "collapsed": true
   },
   "outputs": [],
   "source": [
    "# train_data['expense_sales_ratio'] = train_data['Expense_Price']/train_data['Sales']\n",
    "# test_data['expense_sales_ratio'] = test_data['Expense_Price']/test_data['Sales']"
   ]
  },
  {
   "cell_type": "code",
   "execution_count": 47,
   "metadata": {},
   "outputs": [
    {
     "data": {
      "text/html": [
       "<div>\n",
       "<style scoped>\n",
       "    .dataframe tbody tr th:only-of-type {\n",
       "        vertical-align: middle;\n",
       "    }\n",
       "\n",
       "    .dataframe tbody tr th {\n",
       "        vertical-align: top;\n",
       "    }\n",
       "\n",
       "    .dataframe thead th {\n",
       "        text-align: right;\n",
       "    }\n",
       "</style>\n",
       "<table border=\"1\" class=\"dataframe\">\n",
       "  <thead>\n",
       "    <tr style=\"text-align: right;\">\n",
       "      <th></th>\n",
       "      <th>Year</th>\n",
       "      <th>Month</th>\n",
       "      <th>Country</th>\n",
       "      <th>Product_ID</th>\n",
       "      <th>Sales</th>\n",
       "      <th>Holiday</th>\n",
       "      <th>Expense_Price</th>\n",
       "    </tr>\n",
       "  </thead>\n",
       "  <tbody>\n",
       "    <tr>\n",
       "      <th>0</th>\n",
       "      <td>2013</td>\n",
       "      <td>1</td>\n",
       "      <td>Argentina</td>\n",
       "      <td>1</td>\n",
       "      <td>34346025.00</td>\n",
       "      <td>1</td>\n",
       "      <td>14749.307</td>\n",
       "    </tr>\n",
       "    <tr>\n",
       "      <th>1</th>\n",
       "      <td>2013</td>\n",
       "      <td>1</td>\n",
       "      <td>Argentina</td>\n",
       "      <td>2</td>\n",
       "      <td>2751851.48</td>\n",
       "      <td>1</td>\n",
       "      <td>1329.374</td>\n",
       "    </tr>\n",
       "    <tr>\n",
       "      <th>2</th>\n",
       "      <td>2013</td>\n",
       "      <td>1</td>\n",
       "      <td>Belgium</td>\n",
       "      <td>2</td>\n",
       "      <td>314850.13</td>\n",
       "      <td>1</td>\n",
       "      <td>249.590</td>\n",
       "    </tr>\n",
       "    <tr>\n",
       "      <th>3</th>\n",
       "      <td>2013</td>\n",
       "      <td>1</td>\n",
       "      <td>Columbia</td>\n",
       "      <td>1</td>\n",
       "      <td>7894712.62</td>\n",
       "      <td>2</td>\n",
       "      <td>1893.122</td>\n",
       "    </tr>\n",
       "    <tr>\n",
       "      <th>4</th>\n",
       "      <td>2013</td>\n",
       "      <td>1</td>\n",
       "      <td>Columbia</td>\n",
       "      <td>2</td>\n",
       "      <td>5770274.12</td>\n",
       "      <td>2</td>\n",
       "      <td>1436.726</td>\n",
       "    </tr>\n",
       "  </tbody>\n",
       "</table>\n",
       "</div>"
      ],
      "text/plain": [
       "   Year  Month    Country  Product_ID        Sales  Holiday  Expense_Price\n",
       "0  2013      1  Argentina           1  34346025.00        1      14749.307\n",
       "1  2013      1  Argentina           2   2751851.48        1       1329.374\n",
       "2  2013      1    Belgium           2    314850.13        1        249.590\n",
       "3  2013      1   Columbia           1   7894712.62        2       1893.122\n",
       "4  2013      1   Columbia           2   5770274.12        2       1436.726"
      ]
     },
     "execution_count": 47,
     "metadata": {},
     "output_type": "execute_result"
    }
   ],
   "source": [
    "train_data.head()"
   ]
  },
  {
   "cell_type": "code",
   "execution_count": 48,
   "metadata": {},
   "outputs": [
    {
     "data": {
      "text/html": [
       "<div>\n",
       "<style scoped>\n",
       "    .dataframe tbody tr th:only-of-type {\n",
       "        vertical-align: middle;\n",
       "    }\n",
       "\n",
       "    .dataframe tbody tr th {\n",
       "        vertical-align: top;\n",
       "    }\n",
       "\n",
       "    .dataframe thead th {\n",
       "        text-align: right;\n",
       "    }\n",
       "</style>\n",
       "<table border=\"1\" class=\"dataframe\">\n",
       "  <thead>\n",
       "    <tr style=\"text-align: right;\">\n",
       "      <th></th>\n",
       "      <th>Year</th>\n",
       "      <th>Month</th>\n",
       "      <th>Country</th>\n",
       "      <th>Product_ID</th>\n",
       "      <th>Holiday</th>\n",
       "      <th>Expense_Price</th>\n",
       "    </tr>\n",
       "  </thead>\n",
       "  <tbody>\n",
       "    <tr>\n",
       "      <th>0</th>\n",
       "      <td>2015</td>\n",
       "      <td>11</td>\n",
       "      <td>England</td>\n",
       "      <td>4</td>\n",
       "      <td>0</td>\n",
       "      <td>171.166</td>\n",
       "    </tr>\n",
       "    <tr>\n",
       "      <th>1</th>\n",
       "      <td>2015</td>\n",
       "      <td>11</td>\n",
       "      <td>England</td>\n",
       "      <td>5</td>\n",
       "      <td>0</td>\n",
       "      <td>416.969</td>\n",
       "    </tr>\n",
       "    <tr>\n",
       "      <th>2</th>\n",
       "      <td>2015</td>\n",
       "      <td>11</td>\n",
       "      <td>Finland</td>\n",
       "      <td>4</td>\n",
       "      <td>0</td>\n",
       "      <td>1306.731</td>\n",
       "    </tr>\n",
       "    <tr>\n",
       "      <th>3</th>\n",
       "      <td>2015</td>\n",
       "      <td>12</td>\n",
       "      <td>England</td>\n",
       "      <td>4</td>\n",
       "      <td>3</td>\n",
       "      <td>194.468</td>\n",
       "    </tr>\n",
       "    <tr>\n",
       "      <th>4</th>\n",
       "      <td>2015</td>\n",
       "      <td>12</td>\n",
       "      <td>England</td>\n",
       "      <td>5</td>\n",
       "      <td>3</td>\n",
       "      <td>464.351</td>\n",
       "    </tr>\n",
       "  </tbody>\n",
       "</table>\n",
       "</div>"
      ],
      "text/plain": [
       "   Year  Month  Country  Product_ID  Holiday  Expense_Price\n",
       "0  2015     11  England           4        0        171.166\n",
       "1  2015     11  England           5        0        416.969\n",
       "2  2015     11  Finland           4        0       1306.731\n",
       "3  2015     12  England           4        3        194.468\n",
       "4  2015     12  England           5        3        464.351"
      ]
     },
     "execution_count": 48,
     "metadata": {},
     "output_type": "execute_result"
    }
   ],
   "source": [
    "test_data.head()"
   ]
  },
  {
   "cell_type": "code",
   "execution_count": 49,
   "metadata": {},
   "outputs": [
    {
     "data": {
      "text/plain": [
       "((388, 7), (105, 6))"
      ]
     },
     "execution_count": 49,
     "metadata": {},
     "output_type": "execute_result"
    }
   ],
   "source": [
    "train_data.shape,test_data.shape"
   ]
  },
  {
   "cell_type": "code",
   "execution_count": 50,
   "metadata": {
    "collapsed": true
   },
   "outputs": [],
   "source": [
    "old_test = pd.read_csv('Data/yds_test2018.csv')"
   ]
  },
  {
   "cell_type": "code",
   "execution_count": 51,
   "metadata": {},
   "outputs": [
    {
     "data": {
      "text/html": [
       "<div>\n",
       "<style scoped>\n",
       "    .dataframe tbody tr th:only-of-type {\n",
       "        vertical-align: middle;\n",
       "    }\n",
       "\n",
       "    .dataframe tbody tr th {\n",
       "        vertical-align: top;\n",
       "    }\n",
       "\n",
       "    .dataframe thead th {\n",
       "        text-align: right;\n",
       "    }\n",
       "</style>\n",
       "<table border=\"1\" class=\"dataframe\">\n",
       "  <thead>\n",
       "    <tr style=\"text-align: right;\">\n",
       "      <th></th>\n",
       "      <th>S_No</th>\n",
       "      <th>Year</th>\n",
       "      <th>Month</th>\n",
       "      <th>Product_ID</th>\n",
       "      <th>Country</th>\n",
       "      <th>Sales</th>\n",
       "    </tr>\n",
       "  </thead>\n",
       "  <tbody>\n",
       "    <tr>\n",
       "      <th>0</th>\n",
       "      <td>79073</td>\n",
       "      <td>2016</td>\n",
       "      <td>4</td>\n",
       "      <td>1</td>\n",
       "      <td>Argentina</td>\n",
       "      <td>NaN</td>\n",
       "    </tr>\n",
       "    <tr>\n",
       "      <th>1</th>\n",
       "      <td>79074</td>\n",
       "      <td>2016</td>\n",
       "      <td>5</td>\n",
       "      <td>1</td>\n",
       "      <td>Argentina</td>\n",
       "      <td>NaN</td>\n",
       "    </tr>\n",
       "    <tr>\n",
       "      <th>2</th>\n",
       "      <td>79075</td>\n",
       "      <td>2016</td>\n",
       "      <td>6</td>\n",
       "      <td>1</td>\n",
       "      <td>Argentina</td>\n",
       "      <td>NaN</td>\n",
       "    </tr>\n",
       "    <tr>\n",
       "      <th>3</th>\n",
       "      <td>79076</td>\n",
       "      <td>2016</td>\n",
       "      <td>7</td>\n",
       "      <td>1</td>\n",
       "      <td>Argentina</td>\n",
       "      <td>NaN</td>\n",
       "    </tr>\n",
       "    <tr>\n",
       "      <th>4</th>\n",
       "      <td>79077</td>\n",
       "      <td>2016</td>\n",
       "      <td>8</td>\n",
       "      <td>1</td>\n",
       "      <td>Argentina</td>\n",
       "      <td>NaN</td>\n",
       "    </tr>\n",
       "  </tbody>\n",
       "</table>\n",
       "</div>"
      ],
      "text/plain": [
       "    S_No  Year  Month  Product_ID    Country  Sales\n",
       "0  79073  2016      4           1  Argentina    NaN\n",
       "1  79074  2016      5           1  Argentina    NaN\n",
       "2  79075  2016      6           1  Argentina    NaN\n",
       "3  79076  2016      7           1  Argentina    NaN\n",
       "4  79077  2016      8           1  Argentina    NaN"
      ]
     },
     "execution_count": 51,
     "metadata": {},
     "output_type": "execute_result"
    }
   ],
   "source": [
    "old_test.head()"
   ]
  },
  {
   "cell_type": "code",
   "execution_count": 52,
   "metadata": {
    "collapsed": true
   },
   "outputs": [],
   "source": [
    "test_data = test_data.merge(right=old_test.drop(['Sales'],1),on=['Year','Month','Product_ID','Country'],how='left')"
   ]
  },
  {
   "cell_type": "code",
   "execution_count": 53,
   "metadata": {},
   "outputs": [
    {
     "data": {
      "text/html": [
       "<div>\n",
       "<style scoped>\n",
       "    .dataframe tbody tr th:only-of-type {\n",
       "        vertical-align: middle;\n",
       "    }\n",
       "\n",
       "    .dataframe tbody tr th {\n",
       "        vertical-align: top;\n",
       "    }\n",
       "\n",
       "    .dataframe thead th {\n",
       "        text-align: right;\n",
       "    }\n",
       "</style>\n",
       "<table border=\"1\" class=\"dataframe\">\n",
       "  <thead>\n",
       "    <tr style=\"text-align: right;\">\n",
       "      <th></th>\n",
       "      <th>Year</th>\n",
       "      <th>Month</th>\n",
       "      <th>Country</th>\n",
       "      <th>Product_ID</th>\n",
       "      <th>Holiday</th>\n",
       "      <th>Expense_Price</th>\n",
       "      <th>S_No</th>\n",
       "    </tr>\n",
       "  </thead>\n",
       "  <tbody>\n",
       "    <tr>\n",
       "      <th>0</th>\n",
       "      <td>2015</td>\n",
       "      <td>11</td>\n",
       "      <td>England</td>\n",
       "      <td>4</td>\n",
       "      <td>0</td>\n",
       "      <td>171.166</td>\n",
       "      <td>79160</td>\n",
       "    </tr>\n",
       "    <tr>\n",
       "      <th>1</th>\n",
       "      <td>2015</td>\n",
       "      <td>11</td>\n",
       "      <td>England</td>\n",
       "      <td>5</td>\n",
       "      <td>0</td>\n",
       "      <td>416.969</td>\n",
       "      <td>79151</td>\n",
       "    </tr>\n",
       "    <tr>\n",
       "      <th>2</th>\n",
       "      <td>2015</td>\n",
       "      <td>11</td>\n",
       "      <td>Finland</td>\n",
       "      <td>4</td>\n",
       "      <td>0</td>\n",
       "      <td>1306.731</td>\n",
       "      <td>79169</td>\n",
       "    </tr>\n",
       "    <tr>\n",
       "      <th>3</th>\n",
       "      <td>2015</td>\n",
       "      <td>12</td>\n",
       "      <td>England</td>\n",
       "      <td>4</td>\n",
       "      <td>3</td>\n",
       "      <td>194.468</td>\n",
       "      <td>79161</td>\n",
       "    </tr>\n",
       "    <tr>\n",
       "      <th>4</th>\n",
       "      <td>2015</td>\n",
       "      <td>12</td>\n",
       "      <td>England</td>\n",
       "      <td>5</td>\n",
       "      <td>3</td>\n",
       "      <td>464.351</td>\n",
       "      <td>79152</td>\n",
       "    </tr>\n",
       "  </tbody>\n",
       "</table>\n",
       "</div>"
      ],
      "text/plain": [
       "   Year  Month  Country  Product_ID  Holiday  Expense_Price   S_No\n",
       "0  2015     11  England           4        0        171.166  79160\n",
       "1  2015     11  England           5        0        416.969  79151\n",
       "2  2015     11  Finland           4        0       1306.731  79169\n",
       "3  2015     12  England           4        3        194.468  79161\n",
       "4  2015     12  England           5        3        464.351  79152"
      ]
     },
     "execution_count": 53,
     "metadata": {},
     "output_type": "execute_result"
    }
   ],
   "source": [
    "test_data.head()"
   ]
  },
  {
   "cell_type": "code",
   "execution_count": 54,
   "metadata": {},
   "outputs": [
    {
     "data": {
      "text/plain": [
       "True"
      ]
     },
     "execution_count": 54,
     "metadata": {},
     "output_type": "execute_result"
    }
   ],
   "source": [
    "len(set(test_data['S_No'])) == test_data.shape[0]"
   ]
  },
  {
   "cell_type": "code",
   "execution_count": 55,
   "metadata": {
    "collapsed": true
   },
   "outputs": [],
   "source": [
    "train_data.to_csv('Data/Clean_train_data.csv',index=False)\n",
    "test_data.to_csv('Data/Clean_test_data.csv',index=False)"
   ]
  },
  {
   "cell_type": "code",
   "execution_count": null,
   "metadata": {
    "collapsed": true
   },
   "outputs": [],
   "source": []
  },
  {
   "cell_type": "code",
   "execution_count": null,
   "metadata": {
    "collapsed": true
   },
   "outputs": [],
   "source": []
  }
 ],
 "metadata": {
  "anaconda-cloud": {},
  "kernelspec": {
   "display_name": "Python 3",
   "language": "python",
   "name": "python3"
  },
  "language_info": {
   "codemirror_mode": {
    "name": "ipython",
    "version": 3
   },
   "file_extension": ".py",
   "mimetype": "text/x-python",
   "name": "python",
   "nbconvert_exporter": "python",
   "pygments_lexer": "ipython3",
   "version": "3.6.2"
  }
 },
 "nbformat": 4,
 "nbformat_minor": 1
}
